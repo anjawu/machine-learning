{
 "cells": [
  {
   "cell_type": "code",
   "execution_count": 122,
   "id": "67ff8a4c",
   "metadata": {},
   "outputs": [],
   "source": [
    "import pandas as pd\n",
    "import math\n",
    "from scipy.stats import entropy"
   ]
  },
  {
   "cell_type": "code",
   "execution_count": 149,
   "id": "9c7ae3ab",
   "metadata": {},
   "outputs": [
    {
     "data": {
      "text/html": [
       "<div>\n",
       "<style scoped>\n",
       "    .dataframe tbody tr th:only-of-type {\n",
       "        vertical-align: middle;\n",
       "    }\n",
       "\n",
       "    .dataframe tbody tr th {\n",
       "        vertical-align: top;\n",
       "    }\n",
       "\n",
       "    .dataframe thead th {\n",
       "        text-align: right;\n",
       "    }\n",
       "</style>\n",
       "<table border=\"1\" class=\"dataframe\">\n",
       "  <thead>\n",
       "    <tr style=\"text-align: right;\">\n",
       "      <th></th>\n",
       "      <th>x1</th>\n",
       "      <th>x2</th>\n",
       "      <th>x3</th>\n",
       "      <th>x4</th>\n",
       "    </tr>\n",
       "  </thead>\n",
       "  <tbody>\n",
       "    <tr>\n",
       "      <th>0</th>\n",
       "      <td>0.1250</td>\n",
       "      <td>0.0625</td>\n",
       "      <td>0.03125</td>\n",
       "      <td>0.03125</td>\n",
       "    </tr>\n",
       "    <tr>\n",
       "      <th>1</th>\n",
       "      <td>0.0625</td>\n",
       "      <td>0.1250</td>\n",
       "      <td>0.03125</td>\n",
       "      <td>0.03125</td>\n",
       "    </tr>\n",
       "    <tr>\n",
       "      <th>2</th>\n",
       "      <td>0.0625</td>\n",
       "      <td>0.0625</td>\n",
       "      <td>0.06250</td>\n",
       "      <td>0.06250</td>\n",
       "    </tr>\n",
       "    <tr>\n",
       "      <th>3</th>\n",
       "      <td>0.2500</td>\n",
       "      <td>0.0000</td>\n",
       "      <td>0.00000</td>\n",
       "      <td>0.00000</td>\n",
       "    </tr>\n",
       "  </tbody>\n",
       "</table>\n",
       "</div>"
      ],
      "text/plain": [
       "       x1      x2       x3       x4\n",
       "0  0.1250  0.0625  0.03125  0.03125\n",
       "1  0.0625  0.1250  0.03125  0.03125\n",
       "2  0.0625  0.0625  0.06250  0.06250\n",
       "3  0.2500  0.0000  0.00000  0.00000"
      ]
     },
     "execution_count": 149,
     "metadata": {},
     "output_type": "execute_result"
    }
   ],
   "source": [
    "df = pd.DataFrame(\n",
    "    {\n",
    "        'x1':[1/8, 1/16, 1/16, 1/4],\n",
    "        'x2':[1/16, 1/8, 1/16, 0],\n",
    "        'x3':[1/32, 1/32, 1/16, 0],\n",
    "        'x4':[1/32, 1/32, 1/16, 0]\n",
    "    }\n",
    ")\n",
    "df"
   ]
  },
  {
   "cell_type": "markdown",
   "id": "db42fd4f",
   "metadata": {},
   "source": [
    "## 2Bi) Computing marginal probabilities "
   ]
  },
  {
   "cell_type": "markdown",
   "id": "315bc147",
   "metadata": {},
   "source": [
    "*p(X)* "
   ]
  },
  {
   "cell_type": "code",
   "execution_count": 125,
   "id": "5f32f775",
   "metadata": {},
   "outputs": [
    {
     "name": "stdout",
     "output_type": "stream",
     "text": [
      "[0.5, 0.25, 0.125, 0.125]\n"
     ]
    }
   ],
   "source": [
    "px = []\n",
    "for i in range(0,4):\n",
    "    s = sum(df.iloc[:,i])\n",
    "    px.append(s) \n",
    "\n",
    "print(px)\n"
   ]
  },
  {
   "cell_type": "markdown",
   "id": "d5880f7d",
   "metadata": {},
   "source": [
    "**Solution for 2Bi (p(x))**   \n",
    "p(x=1) = 0.5   \n",
    "p(x=2) = 0.25  \n",
    "p(x=3) = 0.125  \n",
    "p(x=4) = 0.125  "
   ]
  },
  {
   "cell_type": "markdown",
   "id": "d80ed7dd",
   "metadata": {},
   "source": [
    "*p(Y)*"
   ]
  },
  {
   "cell_type": "code",
   "execution_count": 126,
   "id": "967ea051",
   "metadata": {},
   "outputs": [
    {
     "name": "stdout",
     "output_type": "stream",
     "text": [
      "[0.25, 0.25, 0.25, 0.25]\n"
     ]
    }
   ],
   "source": [
    "py = []\n",
    "for i in range(0,4):\n",
    "    s = sum(df.iloc[i])\n",
    "    py.append(s) \n",
    "\n",
    "print(py)"
   ]
  },
  {
   "cell_type": "markdown",
   "id": "4215dea5",
   "metadata": {},
   "source": [
    "**Solution for 2Bi (p(y))**   \n",
    "p(y=1) = 0.25   \n",
    "p(y=2) = 0.25  \n",
    "p(y=3) = 0.25  \n",
    "p(y=4) = 0.25  "
   ]
  },
  {
   "cell_type": "code",
   "execution_count": 140,
   "id": "f9136088",
   "metadata": {},
   "outputs": [],
   "source": [
    "df_marg_prob = df"
   ]
  },
  {
   "cell_type": "code",
   "execution_count": 141,
   "id": "baf7f64a",
   "metadata": {},
   "outputs": [
    {
     "data": {
      "text/html": [
       "<div>\n",
       "<style scoped>\n",
       "    .dataframe tbody tr th:only-of-type {\n",
       "        vertical-align: middle;\n",
       "    }\n",
       "\n",
       "    .dataframe tbody tr th {\n",
       "        vertical-align: top;\n",
       "    }\n",
       "\n",
       "    .dataframe thead th {\n",
       "        text-align: right;\n",
       "    }\n",
       "</style>\n",
       "<table border=\"1\" class=\"dataframe\">\n",
       "  <thead>\n",
       "    <tr style=\"text-align: right;\">\n",
       "      <th></th>\n",
       "      <th>x1</th>\n",
       "      <th>x2</th>\n",
       "      <th>x3</th>\n",
       "      <th>x4</th>\n",
       "      <th>marg_py</th>\n",
       "      <th>marg_px</th>\n",
       "    </tr>\n",
       "  </thead>\n",
       "  <tbody>\n",
       "    <tr>\n",
       "      <th>0</th>\n",
       "      <td>0.1250</td>\n",
       "      <td>0.0625</td>\n",
       "      <td>0.03125</td>\n",
       "      <td>0.03125</td>\n",
       "      <td>0.25</td>\n",
       "      <td>0.500</td>\n",
       "    </tr>\n",
       "    <tr>\n",
       "      <th>1</th>\n",
       "      <td>0.0625</td>\n",
       "      <td>0.1250</td>\n",
       "      <td>0.03125</td>\n",
       "      <td>0.03125</td>\n",
       "      <td>0.25</td>\n",
       "      <td>0.250</td>\n",
       "    </tr>\n",
       "    <tr>\n",
       "      <th>2</th>\n",
       "      <td>0.0625</td>\n",
       "      <td>0.0625</td>\n",
       "      <td>0.06250</td>\n",
       "      <td>0.06250</td>\n",
       "      <td>0.25</td>\n",
       "      <td>0.125</td>\n",
       "    </tr>\n",
       "    <tr>\n",
       "      <th>3</th>\n",
       "      <td>0.2500</td>\n",
       "      <td>0.0000</td>\n",
       "      <td>0.00000</td>\n",
       "      <td>0.00000</td>\n",
       "      <td>0.25</td>\n",
       "      <td>0.125</td>\n",
       "    </tr>\n",
       "  </tbody>\n",
       "</table>\n",
       "</div>"
      ],
      "text/plain": [
       "       x1      x2       x3       x4  marg_py  marg_px\n",
       "0  0.1250  0.0625  0.03125  0.03125     0.25    0.500\n",
       "1  0.0625  0.1250  0.03125  0.03125     0.25    0.250\n",
       "2  0.0625  0.0625  0.06250  0.06250     0.25    0.125\n",
       "3  0.2500  0.0000  0.00000  0.00000     0.25    0.125"
      ]
     },
     "execution_count": 141,
     "metadata": {},
     "output_type": "execute_result"
    }
   ],
   "source": [
    "df_marg_prob['marg_py'] = py\n",
    "df_marg_prob['marg_px'] = px\n",
    "df_marg_prob"
   ]
  },
  {
   "cell_type": "markdown",
   "id": "8315e87e",
   "metadata": {},
   "source": [
    "## 2Bii) Computing entropies H(X) and H(Y)"
   ]
  },
  {
   "cell_type": "markdown",
   "id": "d1d34659",
   "metadata": {},
   "source": [
    "*H(X)=-sum(px[i]*log_2(px[i]))*"
   ]
  },
  {
   "cell_type": "code",
   "execution_count": 135,
   "id": "ce3bcbe4",
   "metadata": {},
   "outputs": [
    {
     "name": "stdout",
     "output_type": "stream",
     "text": [
      "1.75\n"
     ]
    }
   ],
   "source": [
    "hx = 0\n",
    "for i in range(0,4):\n",
    "    hx += -1*px[i]*math.log(px[i],2)\n",
    "\n",
    "print(hx)"
   ]
  },
  {
   "cell_type": "code",
   "execution_count": 136,
   "id": "50fde98a",
   "metadata": {},
   "outputs": [
    {
     "data": {
      "text/plain": [
       "1.75"
      ]
     },
     "execution_count": 136,
     "metadata": {},
     "output_type": "execute_result"
    }
   ],
   "source": [
    "entropy(df_marg_prob.iloc[:, 5], base=2)"
   ]
  },
  {
   "cell_type": "markdown",
   "id": "d3485b76",
   "metadata": {},
   "source": [
    "*H(X) = 1.75*"
   ]
  },
  {
   "cell_type": "markdown",
   "id": "aafd2c12",
   "metadata": {},
   "source": [
    "*H(Y)*"
   ]
  },
  {
   "cell_type": "code",
   "execution_count": 35,
   "id": "67ed7d35",
   "metadata": {},
   "outputs": [
    {
     "name": "stdout",
     "output_type": "stream",
     "text": [
      "2.0\n"
     ]
    }
   ],
   "source": [
    "hy = 0\n",
    "for i in range(0,4):\n",
    "    hy += -1*py[i]*math.log(py[i],2)\n",
    "\n",
    "print(hy)"
   ]
  },
  {
   "cell_type": "code",
   "execution_count": 137,
   "id": "275a0fc0",
   "metadata": {},
   "outputs": [
    {
     "data": {
      "text/plain": [
       "2.0"
      ]
     },
     "execution_count": 137,
     "metadata": {},
     "output_type": "execute_result"
    }
   ],
   "source": [
    "entropy(df_marg_prob.iloc[:, 4], base=2)"
   ]
  },
  {
   "cell_type": "markdown",
   "id": "c2173c1d",
   "metadata": {},
   "source": [
    "*H(Y) = 2*"
   ]
  },
  {
   "cell_type": "markdown",
   "id": "8f7c7464",
   "metadata": {},
   "source": [
    "## 2Biii) Computing entropies H(X|Y=i)"
   ]
  },
  {
   "cell_type": "code",
   "execution_count": 170,
   "id": "f10a9d9c",
   "metadata": {},
   "outputs": [
    {
     "data": {
      "text/html": [
       "<div>\n",
       "<style scoped>\n",
       "    .dataframe tbody tr th:only-of-type {\n",
       "        vertical-align: middle;\n",
       "    }\n",
       "\n",
       "    .dataframe tbody tr th {\n",
       "        vertical-align: top;\n",
       "    }\n",
       "\n",
       "    .dataframe thead th {\n",
       "        text-align: right;\n",
       "    }\n",
       "</style>\n",
       "<table border=\"1\" class=\"dataframe\">\n",
       "  <thead>\n",
       "    <tr style=\"text-align: right;\">\n",
       "      <th></th>\n",
       "      <th>x1</th>\n",
       "      <th>x2</th>\n",
       "      <th>x3</th>\n",
       "      <th>x4</th>\n",
       "    </tr>\n",
       "  </thead>\n",
       "  <tbody>\n",
       "    <tr>\n",
       "      <th>0</th>\n",
       "      <td>0.1250</td>\n",
       "      <td>0.0625</td>\n",
       "      <td>0.03125</td>\n",
       "      <td>0.03125</td>\n",
       "    </tr>\n",
       "    <tr>\n",
       "      <th>1</th>\n",
       "      <td>0.0625</td>\n",
       "      <td>0.1250</td>\n",
       "      <td>0.03125</td>\n",
       "      <td>0.03125</td>\n",
       "    </tr>\n",
       "    <tr>\n",
       "      <th>2</th>\n",
       "      <td>0.0625</td>\n",
       "      <td>0.0625</td>\n",
       "      <td>0.06250</td>\n",
       "      <td>0.06250</td>\n",
       "    </tr>\n",
       "    <tr>\n",
       "      <th>3</th>\n",
       "      <td>0.2500</td>\n",
       "      <td>0.0000</td>\n",
       "      <td>0.00000</td>\n",
       "      <td>0.00000</td>\n",
       "    </tr>\n",
       "  </tbody>\n",
       "</table>\n",
       "</div>"
      ],
      "text/plain": [
       "       x1      x2       x3       x4\n",
       "0  0.1250  0.0625  0.03125  0.03125\n",
       "1  0.0625  0.1250  0.03125  0.03125\n",
       "2  0.0625  0.0625  0.06250  0.06250\n",
       "3  0.2500  0.0000  0.00000  0.00000"
      ]
     },
     "execution_count": 170,
     "metadata": {},
     "output_type": "execute_result"
    }
   ],
   "source": [
    "df"
   ]
  },
  {
   "cell_type": "code",
   "execution_count": 160,
   "id": "61a35328",
   "metadata": {},
   "outputs": [
    {
     "name": "stdout",
     "output_type": "stream",
     "text": [
      "H[X | Y = 1] = 1.75\n",
      "H[X | Y = 2] = 1.75\n",
      "H[X | Y = 3] = 2.0\n",
      "H[X | Y = 4] = 0.0\n"
     ]
    }
   ],
   "source": [
    "hx_yi = []\n",
    "for i in range(0,4):\n",
    "    hx_yi.append(entropy(df.iloc[i], base=2))\n",
    "    print(f'H[X | Y = {i+1}] = {hx_yi[i]}')"
   ]
  },
  {
   "cell_type": "markdown",
   "id": "8108f57e",
   "metadata": {},
   "source": [
    "## 2Biv) Compute H(X|Y)"
   ]
  },
  {
   "cell_type": "code",
   "execution_count": 271,
   "id": "0e79f4c4",
   "metadata": {},
   "outputs": [
    {
     "name": "stdout",
     "output_type": "stream",
     "text": [
      "H[X | Y] = 1.375\n"
     ]
    }
   ],
   "source": [
    "hx_y = 0\n",
    "for j in range(0,4):\n",
    "    hx_y += py[j]*hx_yi[j]\n",
    "print(f'H[X | Y] = {hx_y}')"
   ]
  },
  {
   "cell_type": "markdown",
   "id": "2e5112a0",
   "metadata": {},
   "source": [
    "## 2Bv) Compute H(Y|X)"
   ]
  },
  {
   "cell_type": "code",
   "execution_count": 275,
   "id": "52db7b52",
   "metadata": {},
   "outputs": [
    {
     "name": "stdout",
     "output_type": "stream",
     "text": [
      "\n",
      "X_1:\n",
      "p(y1|x1)=0.25\n",
      "p(y2|x1)=0.125\n",
      "p(y3|x1)=0.125\n",
      "p(y4|x1)=0.5\n",
      "\n",
      "X_2:\n",
      "p(y1|x2)=0.25\n",
      "p(y2|x2)=0.5\n",
      "p(y3|x2)=0.25\n",
      "p(y4|x2)=0.0\n",
      "\n",
      "X_3:\n",
      "p(y1|x3)=0.25\n",
      "p(y2|x3)=0.25\n",
      "p(y3|x3)=0.5\n",
      "p(y4|x3)=0.0\n",
      "\n",
      "X_4:\n",
      "p(y1|x4)=0.25\n",
      "p(y2|x4)=0.25\n",
      "p(y3|x4)=0.5\n",
      "p(y4|x4)=0.0\n"
     ]
    }
   ],
   "source": [
    "# calculating p(yi|xj)\n",
    "\n",
    "for j in range(0,4):\n",
    "    print(f'\\nX_{j+1}:')\n",
    "    for i in range(0,4):\n",
    "        pyi_xj = df.iloc[i,j]/px[j]\n",
    "#         print(f'\\np(yi)={df.iloc[i, j]}/ p(xj)={px[j]}, p(yi|x) = {pyi_xj}')\n",
    "        print(f'p(y{i+1}|x{j+1})={pyi_xj}')"
   ]
  },
  {
   "cell_type": "code",
   "execution_count": 276,
   "id": "6695ed6d",
   "metadata": {},
   "outputs": [
    {
     "name": "stdout",
     "output_type": "stream",
     "text": [
      "H(Y | X) = 1.625\n"
     ]
    }
   ],
   "source": [
    "# initiating list \n",
    "hy_xk = []\n",
    "# initiating sum for total conditional entropy\n",
    "hy_x=0\n",
    "\n",
    "for j in range(0,4):\n",
    "    # creating list for each x_j that stores all probabilities of y_i\n",
    "    pyi_x = []\n",
    "    for i in range(0,4):\n",
    "        pyi_x.append(df.iloc[i,j]/px[j])\n",
    "    # calculating entropy for each H(Y | x=j) and add to list to then calculate total H(Y|X)\n",
    "    hy_xk.append(entropy(pyi_x[:],base=2))\n",
    "\n",
    "for k in range(0,4):\n",
    "    # Print out all conditional entropies with varying x_k\n",
    "#     print(f'H(Y | X = {k+1})= {hy_xk[k]}')\n",
    "    # sum over all entropies with x_k and multiply by marginal probability for x_k\n",
    "    hy_x+=hy_xk[k]*px[k]\n",
    "    \n",
    "print(f'H(Y | X) = {hy_x}')"
   ]
  },
  {
   "cell_type": "markdown",
   "id": "e4d6e231",
   "metadata": {},
   "source": [
    "## 2Bvi) Computing joint entropy H(X,Y)"
   ]
  },
  {
   "cell_type": "code",
   "execution_count": 287,
   "id": "a3fcc160",
   "metadata": {},
   "outputs": [
    {
     "name": "stdout",
     "output_type": "stream",
     "text": [
      "3.375\n"
     ]
    }
   ],
   "source": [
    "# initialize joint entropy\n",
    "hxy = 0\n",
    "\n",
    "for i in range(0,4):\n",
    "    for j in range(0,4):\n",
    "        # since we are using math.log() and we know some indicies have 0 this will cause a math error; but we know the entropy of that term will be 0, so we set those to zero to avoid math error\n",
    "        if df.iloc[i,j]==0:\n",
    "            hxy+=0\n",
    "        else:\n",
    "            hxy +=-1*df.iloc[i,j]*math.log(df.iloc[i,j],2)\n",
    "print(hxy)\n"
   ]
  }
 ],
 "metadata": {
  "kernelspec": {
   "display_name": "Python 3 (ipykernel)",
   "language": "python",
   "name": "python3"
  },
  "language_info": {
   "codemirror_mode": {
    "name": "ipython",
    "version": 3
   },
   "file_extension": ".py",
   "mimetype": "text/x-python",
   "name": "python",
   "nbconvert_exporter": "python",
   "pygments_lexer": "ipython3",
   "version": "3.9.10"
  }
 },
 "nbformat": 4,
 "nbformat_minor": 5
}
